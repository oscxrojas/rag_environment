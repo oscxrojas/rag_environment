{
 "cells": [
  {
   "cell_type": "code",
   "execution_count": 1,
   "id": "cf2d320a-29ae-47e0-b7ab-b3d621da5408",
   "metadata": {},
   "outputs": [],
   "source": [
    "from langfuse import Langfuse\n",
    "from typing import List, Union\n",
    "from langchain_openai import OpenAI\n",
    "from langchain_core.tools import tool\n",
    "from langgraph.prebuilt import ToolNode\n",
    "from langfuse.callback import CallbackHandler\n",
    "from langchain_core.messages import HumanMessage"
   ]
  },
  {
   "cell_type": "code",
   "execution_count": 2,
   "id": "3cbab0a0-5ed2-41c7-9f9f-d71340c0c61e",
   "metadata": {},
   "outputs": [],
   "source": [
    "llm = OpenAI(\n",
    "    model=\"gpt-3.5-turbo-instruct\",\n",
    "    temperature=0,for chunk in llm.stream(input_text):\n",
    "    print(chunk, end=\"|\")\n",
    "    max_retries=2\n",
    ")"
   ]
  },
  {
   "cell_type": "code",
   "execution_count": 4,
   "id": "3905534c-7fb0-4c87-8c62-824c18023775",
   "metadata": {},
   "outputs": [],
   "source": [
    "input_text = \"How to be a LLM agents savvy\"\n",
    "#llm.invoke(input_text)"
   ]
  },
  {
   "cell_type": "code",
   "execution_count": 7,
   "id": "745f21ca-78dd-490b-b9be-3b16706135c0",
   "metadata": {},
   "outputs": [
    {
     "name": "stdout",
     "output_type": "stream",
     "text": [
      "\n",
      "\n",
      "1. Know the market: As a LLM agent, it is important to have a thorough understanding of the market you are working in. This includes knowing the current trends, popular areas, and the types of properties that are in demand.\n",
      "\n",
      "2. Build a strong network: Networking is crucial in the real estate industry. Attend industry events, join professional organizations, and connect with other agents, brokers, and potential clients. This will help you stay updated on the latest developments and also build relationships that can lead to potential business opportunities.\n",
      "\n",
      "3. Stay updated on laws and regulations: As a LLM agent, you will be dealing with legal documents and contracts. It is important to stay updated on the laws and regulations related to real estate in your area to ensure that you are conducting business ethically and legally.\n",
      "\n",
      "4. Develop strong communication skills: Communication is key in any business, and it is especially important in real estate. As a LLM agent, you will be dealing with a diverse range of clients, so it is important to be able to communicate effectively and build rapport with them.\n",
      "\n",
      "5. Utilize technology: In today's digital age, it is important to stay updated on the latest technology and use it to your advantage. This includes using social media, online marketing tools"
     ]
    }
   ],
   "source": [
    "for chunk in llm.stream(input_text):\n",
    "    print(chunk, end=\"\")"
   ]
  }
 ],
 "metadata": {
  "kernelspec": {
   "display_name": "Python 3 (ipykernel)",
   "language": "python",
   "name": "python3"
  },
  "language_info": {
   "codemirror_mode": {
    "name": "ipython",
    "version": 3
   },
   "file_extension": ".py",
   "mimetype": "text/x-python",
   "name": "python",
   "nbconvert_exporter": "python",
   "pygments_lexer": "ipython3",
   "version": "3.11.6"
  }
 },
 "nbformat": 4,
 "nbformat_minor": 5
}
