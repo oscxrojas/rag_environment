{
 "cells": [
  {
   "cell_type": "code",
   "execution_count": 1,
   "id": "a28bfb9d-7c8b-4e8c-9d23-9ce5ffea2baa",
   "metadata": {},
   "outputs": [],
   "source": [
    "from langfuse import Langfuse\n",
    "from typing import List, Union\n",
    "from langchain_core.tools import tool\n",
    "from langgraph.prebuilt import ToolNode\n",
    "from langchain_ollama import ChatOllama\n",
    "from langfuse.callback import CallbackHandler\n",
    "from langchain_core.messages import HumanMessage"
   ]
  },
  {
   "cell_type": "code",
   "execution_count": 2,
   "id": "3ca4ae7a-dc69-45af-8b0e-95c7b4f66e6c",
   "metadata": {},
   "outputs": [],
   "source": [
    "ollama = ChatOllama(\n",
    "    base_url=\"http://ollama:11434\",\n",
    "    model=\"llama3.2\",\n",
    "    temperature=0\n",
    ")"
   ]
  },
  {
   "cell_type": "code",
   "execution_count": 3,
   "id": "da90656a-e40b-4747-8924-ff7c8f27dcaa",
   "metadata": {},
   "outputs": [],
   "source": [
    "langfuse_handler = CallbackHandler(host=\"http://langfuse-web:3000\")"
   ]
  },
  {
   "cell_type": "code",
   "execution_count": 5,
   "id": "0abd23cb-25fd-4723-bcbb-ccf28733e4f4",
   "metadata": {},
   "outputs": [],
   "source": [
    "@tool\n",
    "def addition(numbers: List[int]) -> int:\n",
    "    \"\"\"\n",
    "    Sum all elements in the list.\n",
    "\n",
    "    Args:\n",
    "        numbers (List[int]): List of integers to sum.\n",
    "\n",
    "    Returns:\n",
    "        int: Sum of all integers in the list.\n",
    "\n",
    "    Raises:\n",
    "        ValueError: If the list of numbers is empty.\n",
    "    \"\"\"\n",
    "    if not numbers:\n",
    "        raise ValueError(\"The list of numbers cannot be empty\")\n",
    "    return sum(numbers)\n",
    "\n",
    "@tool\n",
    "def subtraction(numbers: List[int]) -> int:\n",
    "    \"\"\"\n",
    "    Subtract sequentially all elements in the list (a - b - c - ...).\n",
    "\n",
    "    Args:\n",
    "        numbers (List[int]): List of integers where the first element is the minuend and the rest are subtrahends.\n",
    "\n",
    "    Returns:\n",
    "        int: Result of sequential subtraction.\n",
    "\n",
    "    Raises:\n",
    "        ValueError: If the list of numbers is empty.\n",
    "    \"\"\"\n",
    "    if not numbers:\n",
    "        raise ValueError(\"The list of numbers cannot be empty\")\n",
    "    result = numbers[0]\n",
    "    for number in numbers[1:]:\n",
    "        result -= number\n",
    "    return result\n",
    "\n",
    "@tool\n",
    "def multiplication(numbers: List[int]) -> int:\n",
    "    \"\"\"\n",
    "    Multiply all elements in the list.\n",
    "\n",
    "    Args:\n",
    "        numbers (List[int]): List of integers to multiply.\n",
    "\n",
    "    Returns:\n",
    "        int: Product of all integers in the list.\n",
    "\n",
    "    Raises:\n",
    "        ValueError: If the list of numbers is empty.\n",
    "    \"\"\"\n",
    "    if not numbers:\n",
    "        raise ValueError(\"The list of numbers cannot be empty\")\n",
    "    result = 1\n",
    "    for number in numbers:\n",
    "        result *= number\n",
    "    return result\n",
    "\n",
    "@tool\n",
    "def division(numbers: List[int]) -> float:\n",
    "    \"\"\"\n",
    "    Divide sequentially all elements in the list (a / b / c / ...).\n",
    "\n",
    "    Args:\n",
    "        numbers (List[int]): List of integers where the first element is the dividend and the rest are divisors.\n",
    "\n",
    "    Returns:\n",
    "        float: Result of sequential division.\n",
    "\n",
    "    Raises:\n",
    "        ValueError: If the list of numbers is empty.\n",
    "        ZeroDivisionError: If any divisor is zero.\n",
    "    \"\"\"\n",
    "    if not numbers:\n",
    "        raise ValueError(\"The list of numbers cannot be empty\")\n",
    "    result = numbers[0]\n",
    "    for number in numbers[1:]:\n",
    "        if number == 0:\n",
    "            raise ZeroDivisionError(\"Cannot divide by zero\")\n",
    "        result /= number\n",
    "    return result"
   ]
  },
  {
   "cell_type": "code",
   "execution_count": 6,
   "id": "d3037f99-ff5d-4ce3-88c5-58e29caa8815",
   "metadata": {},
   "outputs": [],
   "source": [
    "ollama_enhanced = ollama.bind_tools(my_tools:=[addition, subtraction, multiplication, division])\n",
    "tool_node = ToolNode(my_tools)"
   ]
  },
  {
   "cell_type": "code",
   "execution_count": 13,
   "id": "dc145121-142f-4c0c-8927-09310eb5d50d",
   "metadata": {},
   "outputs": [],
   "source": [
    "tool_call = ollama_enhanced.invoke(\n",
    "    [HumanMessage(content=f\"I had 5 bananas, but now I only have 2 😔 How many have I eaten?\")], \n",
    "    config={\"callbacks\": [langfuse_handler]}\n",
    ")"
   ]
  },
  {
   "cell_type": "code",
   "execution_count": 14,
   "id": "72c23c9f-d94f-464c-b5f0-7748da81eab3",
   "metadata": {},
   "outputs": [],
   "source": [
    "response = tool_node.invoke({\"messages\": [tool_call]})"
   ]
  },
  {
   "cell_type": "code",
   "execution_count": 15,
   "id": "4c78af75-aac8-4e42-964e-2c532a95836d",
   "metadata": {},
   "outputs": [
    {
     "data": {
      "text/plain": [
       "{'messages': [ToolMessage(content='3', name='subtraction', tool_call_id='77c2f469-7f59-44a6-91f9-7b2a10d0191c')]}"
      ]
     },
     "execution_count": 15,
     "metadata": {},
     "output_type": "execute_result"
    }
   ],
   "source": [
    "response"
   ]
  }
 ],
 "metadata": {
  "kernelspec": {
   "display_name": "Python 3 (ipykernel)",
   "language": "python",
   "name": "python3"
  },
  "language_info": {
   "codemirror_mode": {
    "name": "ipython",
    "version": 3
   },
   "file_extension": ".py",
   "mimetype": "text/x-python",
   "name": "python",
   "nbconvert_exporter": "python",
   "pygments_lexer": "ipython3",
   "version": "3.11.6"
  }
 },
 "nbformat": 4,
 "nbformat_minor": 5
}
